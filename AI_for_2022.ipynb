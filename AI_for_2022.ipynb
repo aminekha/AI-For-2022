{
  "nbformat": 4,
  "nbformat_minor": 0,
  "metadata": {
    "colab": {
      "name": "AI for 2022.ipynb",
      "version": "0.3.2",
      "provenance": [],
      "collapsed_sections": []
    },
    "kernelspec": {
      "name": "python3",
      "display_name": "Python 3"
    },
    "accelerator": "GPU"
  },
  "cells": [
    {
      "metadata": {
        "id": "KFltdNvUF3oe",
        "colab_type": "text"
      },
      "cell_type": "markdown",
      "source": [
        "**Introduction**\n",
        "\n",
        "AI for 2022 is a project that aims to replace the VAR technology in Football matches. It uses ML and DL to help the referee take better decisions.\n",
        "\n",
        "The final version of this program will take as input a video and output the same video with squares around the ball, the player who has the ball, and the player closest to him from the opponent team. The program will detect when the opponent player slides to the player who has the ball."
      ]
    },
    {
      "metadata": {
        "id": "3eL_7anNb7n_",
        "colab_type": "text"
      },
      "cell_type": "markdown",
      "source": [
        "**Step1: Detect All the players and the ball**"
      ]
    },
    {
      "metadata": {
        "id": "7C0fzpTDP9rN",
        "colab_type": "code",
        "colab": {}
      },
      "cell_type": "code",
      "source": [
        "!git clone https://github.com/pjreddie/darknet\n",
        "!cd darknet\n",
        "!make"
      ],
      "execution_count": 0,
      "outputs": []
    },
    {
      "metadata": {
        "id": "NyF52F-GRmZR",
        "colab_type": "code",
        "colab": {}
      },
      "cell_type": "code",
      "source": [
        "!wget https://pjreddie.com/media/files/yolov3.weights\n"
      ],
      "execution_count": 0,
      "outputs": []
    },
    {
      "metadata": {
        "id": "zDbyJalxRtqB",
        "colab_type": "code",
        "colab": {}
      },
      "cell_type": "code",
      "source": [
        "! ./darknet detect cfg/yolov3.cfg yolov3.weights data/dog.jpg\n"
      ],
      "execution_count": 0,
      "outputs": []
    },
    {
      "metadata": {
        "id": "WS29XFp_Rx6u",
        "colab_type": "code",
        "colab": {}
      },
      "cell_type": "code",
      "source": [
        ""
      ],
      "execution_count": 0,
      "outputs": []
    }
  ]
}